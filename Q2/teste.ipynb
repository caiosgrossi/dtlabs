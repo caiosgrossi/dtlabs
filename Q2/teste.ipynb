{
 "cells": [
  {
   "cell_type": "code",
   "execution_count": null,
   "metadata": {
    "vscode": {
     "languageId": "plaintext"
    }
   },
   "outputs": [],
   "source": [
    "import os\n",
    "\n",
    "# Diretório que contém as pastas de celebridades\n",
    "data_dir = \"./post-processed/\"\n",
    "\n",
    "# Dicionário para armazenar a contagem de imagens por pasta\n",
    "image_counts = {}\n",
    "\n",
    "# Percorre cada pasta de celebridade\n",
    "for celeb in os.listdir(data_dir):\n",
    "    celeb_folder = os.path.join(data_dir, celeb)\n",
    "    if os.path.isdir(celeb_folder):\n",
    "        # Lista os arquivos de imagem com extensões comuns\n",
    "        images = [f for f in os.listdir(celeb_folder) if f.lower().endswith(('.jpg', '.jpeg', '.png'))]\n",
    "        count = len(images)\n",
    "        image_counts[celeb] = count\n",
    "\n",
    "# Verifica se encontrou pastas\n",
    "if image_counts:\n",
    "    # Identifica a pasta com o mínimo e o máximo de imagens\n",
    "    min_celebrity = min(image_counts, key=image_counts.get)\n",
    "    max_celebrity = max(image_counts, key=image_counts.get)\n",
    "    print(\"Mínimo de imagens:\", image_counts[min_celebrity], \"na pasta\", min_celebrity)\n",
    "    print(\"Máximo de imagens:\", image_counts[max_celebrity], \"na pasta\", max_celebrity)\n",
    "else:\n",
    "    print(\"Nenhuma pasta de celebridade encontrada.\")\n"
   ]
  }
 ],
 "metadata": {
  "language_info": {
   "name": "python"
  }
 },
 "nbformat": 4,
 "nbformat_minor": 2
}
